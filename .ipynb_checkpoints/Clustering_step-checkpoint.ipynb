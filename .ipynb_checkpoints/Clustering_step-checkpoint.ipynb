{
 "cells": [
  {
   "cell_type": "markdown",
   "id": "4f2752d0",
   "metadata": {},
   "source": [
    "# Filtering inventory plots data using clustering procedure\n",
    "\n",
    "Goal: from dataset obtained from satelite and radar imagery (spectral and terrain characteristics and their derrivatives) we want to obtain as mush of representative data as possible.\n",
    "To do this on the data with different buffer-zone acquired by multiplying of radius of the invenotry plot, we perform clustering procedure.\n",
    "\n",
    "K-means\n",
    "* from the whole dataset we select only those records which correposponds to the largest cluster\n",
    "* clustering procedure is performed on the non-correlated features\n",
    "* number of clusters is selected autimatically according to the \"elbow rule\"\n",
    "* clustering is performed by each plot\n",
    "\n",
    "1.1. Attempt as it is <br>\n",
    "1.2. Feature selection step using PCA. From first two components features with contribution to variance explained by a principal component above third quartile were choosen.\n",
    "\n",
    "Supporting functions can be found in ``utils.py`` file "
   ]
  },
  {
   "cell_type": "code",
   "execution_count": 1,
   "id": "830461a2",
   "metadata": {},
   "outputs": [],
   "source": [
    "#libraries\n",
    "\n",
    "import pandas as pd\n",
    "import geopandas as gpd\n",
    "import numpy as np\n",
    "import matplotlib.pyplot as plt\n",
    "\n",
    "from shapely import affinity\n",
    "from sklearn.cluster import KMeans\n",
    "from sklearn.preprocessing import StandardScaler\n",
    "from sklearn import model_selection\n",
    "from sklearn.linear_model import LogisticRegression, RidgeClassifier\n",
    "from sklearn.svm import SVC\n",
    "from sklearn.neighbors import KNeighborsClassifier\n",
    "from sklearn.ensemble import RandomForestClassifier, ExtraTreesClassifier, GradientBoostingClassifier, IsolationForest\n",
    "from sklearn.tree import DecisionTreeClassifier\n",
    "from sklearn.metrics import accuracy_score, roc_auc_score, f1_score\n",
    "from sklearn import metrics\n",
    "from sklearn.model_selection import train_test_split\n",
    "from sklearn.utils.class_weight import compute_class_weight\n",
    "from sklearn.metrics import make_scorer\n",
    "\n",
    "from yellowbrick.cluster import KElbowVisualizer\n",
    "\n",
    "#for PCA option\n",
    "from sklearn.decomposition import PCA"
   ]
  },
  {
   "cell_type": "code",
   "execution_count": 2,
   "id": "e56aa113",
   "metadata": {},
   "outputs": [],
   "source": [
    "import warnings\n",
    "warnings.filterwarnings('ignore')"
   ]
  },
  {
   "cell_type": "code",
   "execution_count": 3,
   "id": "b56a446f",
   "metadata": {},
   "outputs": [
    {
     "data": {
      "text/html": [
       "<div>\n",
       "<style scoped>\n",
       "    .dataframe tbody tr th:only-of-type {\n",
       "        vertical-align: middle;\n",
       "    }\n",
       "\n",
       "    .dataframe tbody tr th {\n",
       "        vertical-align: top;\n",
       "    }\n",
       "\n",
       "    .dataframe thead th {\n",
       "        text-align: right;\n",
       "    }\n",
       "</style>\n",
       "<table border=\"1\" class=\"dataframe\">\n",
       "  <thead>\n",
       "    <tr style=\"text-align: right;\">\n",
       "      <th></th>\n",
       "      <th>B01</th>\n",
       "      <th>B02</th>\n",
       "      <th>B03</th>\n",
       "      <th>B04</th>\n",
       "      <th>B05</th>\n",
       "      <th>B06</th>\n",
       "      <th>B07</th>\n",
       "      <th>B08</th>\n",
       "      <th>B8A</th>\n",
       "      <th>B09</th>\n",
       "      <th>...</th>\n",
       "      <th>NDVI</th>\n",
       "      <th>EVI</th>\n",
       "      <th>MSAVI</th>\n",
       "      <th>NDRE</th>\n",
       "      <th>aspect</th>\n",
       "      <th>slope</th>\n",
       "      <th>wetnessindex</th>\n",
       "      <th>sink</th>\n",
       "      <th>key</th>\n",
       "      <th>class</th>\n",
       "    </tr>\n",
       "  </thead>\n",
       "  <tbody>\n",
       "    <tr>\n",
       "      <th>1</th>\n",
       "      <td>0.1126</td>\n",
       "      <td>0.08185</td>\n",
       "      <td>0.06775</td>\n",
       "      <td>0.04215</td>\n",
       "      <td>0.0656</td>\n",
       "      <td>0.16065</td>\n",
       "      <td>0.19045</td>\n",
       "      <td>0.17490</td>\n",
       "      <td>0.20245</td>\n",
       "      <td>0.06135</td>\n",
       "      <td>...</td>\n",
       "      <td>0.611610</td>\n",
       "      <td>0.260078</td>\n",
       "      <td>0.239022</td>\n",
       "      <td>0.454470</td>\n",
       "      <td>0.744224</td>\n",
       "      <td>0.034715</td>\n",
       "      <td>0.863035</td>\n",
       "      <td>0.75347</td>\n",
       "      <td>0</td>\n",
       "      <td>7</td>\n",
       "    </tr>\n",
       "    <tr>\n",
       "      <th>2</th>\n",
       "      <td>0.1126</td>\n",
       "      <td>0.08360</td>\n",
       "      <td>0.06815</td>\n",
       "      <td>0.04220</td>\n",
       "      <td>0.0656</td>\n",
       "      <td>0.16065</td>\n",
       "      <td>0.19045</td>\n",
       "      <td>0.17635</td>\n",
       "      <td>0.20245</td>\n",
       "      <td>0.06135</td>\n",
       "      <td>...</td>\n",
       "      <td>0.613818</td>\n",
       "      <td>0.262498</td>\n",
       "      <td>0.241437</td>\n",
       "      <td>0.457739</td>\n",
       "      <td>0.744224</td>\n",
       "      <td>0.034715</td>\n",
       "      <td>0.863035</td>\n",
       "      <td>0.75347</td>\n",
       "      <td>0</td>\n",
       "      <td>7</td>\n",
       "    </tr>\n",
       "  </tbody>\n",
       "</table>\n",
       "<p>2 rows × 22 columns</p>\n",
       "</div>"
      ],
      "text/plain": [
       "      B01      B02      B03      B04     B05      B06      B07      B08  \\\n",
       "1  0.1126  0.08185  0.06775  0.04215  0.0656  0.16065  0.19045  0.17490   \n",
       "2  0.1126  0.08360  0.06815  0.04220  0.0656  0.16065  0.19045  0.17635   \n",
       "\n",
       "       B8A      B09  ...      NDVI       EVI     MSAVI      NDRE    aspect  \\\n",
       "1  0.20245  0.06135  ...  0.611610  0.260078  0.239022  0.454470  0.744224   \n",
       "2  0.20245  0.06135  ...  0.613818  0.262498  0.241437  0.457739  0.744224   \n",
       "\n",
       "      slope  wetnessindex     sink  key  class  \n",
       "1  0.034715      0.863035  0.75347    0      7  \n",
       "2  0.034715      0.863035  0.75347    0      7  \n",
       "\n",
       "[2 rows x 22 columns]"
      ]
     },
     "execution_count": 3,
     "metadata": {},
     "output_type": "execute_result"
    }
   ],
   "source": [
    "#dataset\n",
    "\n",
    "test = pd.read_csv('test_data-х3.csv', index_col=0)\n",
    "test.head(2)"
   ]
  },
  {
   "cell_type": "markdown",
   "id": "f1ed2100",
   "metadata": {},
   "source": [
    "## K-means"
   ]
  },
  {
   "cell_type": "code",
   "execution_count": 4,
   "id": "a423f3a5",
   "metadata": {},
   "outputs": [],
   "source": [
    "from utils import get_cluster_pixels, get_selection"
   ]
  },
  {
   "cell_type": "code",
   "execution_count": 5,
   "id": "73be8609",
   "metadata": {},
   "outputs": [
    {
     "name": "stdout",
     "output_type": "stream",
     "text": [
      "...................equal cluster\n",
      ".................equal cluster\n",
      "......equal cluster\n",
      ".....equal cluster\n",
      "............equal cluster\n",
      "..equal cluster\n",
      ".................................................................equal cluster\n",
      "...............equal cluster\n",
      ".equal cluster\n",
      "..................................equal cluster\n",
      ".......equal cluster\n",
      ".............equal cluster\n",
      ".equal cluster\n",
      ".....................equal cluster\n",
      "..........equal cluster\n",
      ".................equal cluster\n",
      ".....equal cluster\n",
      "..........equal cluster\n",
      "...................equal cluster\n",
      "..."
     ]
    }
   ],
   "source": [
    "clustered_df = pd.DataFrame()\n",
    "\n",
    "for item in test.key.unique():\n",
    "    attmpt = get_cluster_pixels(test,\n",
    "                                key=item,\n",
    "                                correlation_threshold=0.7)\n",
    "    attmpt = get_selection(attmpt)\n",
    "    clustered_df = pd.concat([clustered_df, attmpt])\n",
    "    print('.', end='')"
   ]
  },
  {
   "cell_type": "code",
   "execution_count": 8,
   "id": "f7889c0b",
   "metadata": {},
   "outputs": [
    {
     "name": "stdout",
     "output_type": "stream",
     "text": [
      "Rows kept from initial dataset is equal to 45 %\n",
      "<class 'pandas.core.frame.DataFrame'>\n",
      "Int64Index: 5784 entries, 7 to 7\n",
      "Data columns (total 23 columns):\n",
      " #   Column        Non-Null Count  Dtype  \n",
      "---  ------        --------------  -----  \n",
      " 0   B01           5784 non-null   float64\n",
      " 1   B02           5784 non-null   float64\n",
      " 2   B03           5784 non-null   float64\n",
      " 3   B04           5784 non-null   float64\n",
      " 4   B05           5784 non-null   float64\n",
      " 5   B06           5784 non-null   float64\n",
      " 6   B07           5784 non-null   float64\n",
      " 7   B08           5784 non-null   float64\n",
      " 8   B8A           5784 non-null   float64\n",
      " 9   B09           5784 non-null   float64\n",
      " 10  B11           5784 non-null   float64\n",
      " 11  B12           5784 non-null   float64\n",
      " 12  NDVI          5784 non-null   float64\n",
      " 13  EVI           5784 non-null   float64\n",
      " 14  MSAVI         5784 non-null   float64\n",
      " 15  NDRE          5784 non-null   float64\n",
      " 16  aspect        5784 non-null   float64\n",
      " 17  slope         5784 non-null   float64\n",
      " 18  wetnessindex  5784 non-null   float64\n",
      " 19  sink          5784 non-null   float64\n",
      " 20  key           5784 non-null   int64  \n",
      " 21  class         5784 non-null   int64  \n",
      " 22  clusters      5784 non-null   int32  \n",
      "dtypes: float64(20), int32(1), int64(2)\n",
      "memory usage: 1.0 MB\n",
      "None\n"
     ]
    }
   ],
   "source": [
    "print('Rows kept from initial dataset is equal to', round(len(clustered_df)/len(test)*100), '%')\n",
    "print(clustered_df.info())"
   ]
  },
  {
   "cell_type": "markdown",
   "id": "52cfbcc1",
   "metadata": {},
   "source": [
    "## PCA option"
   ]
  },
  {
   "cell_type": "code",
   "execution_count": 9,
   "id": "b6b2da32",
   "metadata": {},
   "outputs": [],
   "source": [
    "from utils import get_cluster_pixels_PCA, get_selection_PCA"
   ]
  },
  {
   "cell_type": "code",
   "execution_count": 10,
   "id": "52803e6e",
   "metadata": {},
   "outputs": [
    {
     "name": "stdout",
     "output_type": "stream",
     "text": [
      "......................equal cluster\n",
      "..................equal cluster\n",
      ".........equal cluster\n",
      ".equal cluster\n",
      "............equal cluster\n",
      "..........equal cluster\n",
      "...........equal cluster\n",
      ".equal cluster\n",
      ".......................equal cluster\n",
      "......equal cluster\n",
      ".equal cluster\n",
      "...........equal cluster\n",
      "...equal cluster\n",
      "...equal cluster\n",
      "....equal cluster\n",
      "................................equal cluster\n",
      "....................equal cluster\n",
      "........equal cluster\n",
      ".....................equal cluster\n",
      ".............equal cluster\n",
      "................equal cluster\n",
      "............................equal cluster\n",
      ".."
     ]
    }
   ],
   "source": [
    "clustered_df_PCA = pd.DataFrame()\n",
    "attmpt = pd.DataFrame()\n",
    "\n",
    "for item in test.key.unique():\n",
    "    try:\n",
    "        attmpt = get_cluster_pixels_PCA(test, key=item)\n",
    "        attmpt = get_selection_PCA(attmpt)\n",
    "        clustered_df_PCA = pd.concat([clustered_df_PCA, attmpt])\n",
    "        print('.', end='') # mute at the final stage, needed for the check\n",
    "    except:\n",
    "        pass"
   ]
  },
  {
   "cell_type": "code",
   "execution_count": 11,
   "id": "f72dc6be",
   "metadata": {},
   "outputs": [
    {
     "name": "stdout",
     "output_type": "stream",
     "text": [
      "Rows kept from initial dataset is equal to 45 %\n"
     ]
    }
   ],
   "source": [
    "print('Rows kept from initial dataset is equal to', round(len(clustered_df_PCA)/len(test)*100), '%')"
   ]
  },
  {
   "cell_type": "markdown",
   "id": "2d194c3c",
   "metadata": {},
   "source": [
    "🤸"
   ]
  }
 ],
 "metadata": {
  "kernelspec": {
   "display_name": "Python 3 (ipykernel)",
   "language": "python",
   "name": "python3"
  },
  "language_info": {
   "codemirror_mode": {
    "name": "ipython",
    "version": 3
   },
   "file_extension": ".py",
   "mimetype": "text/x-python",
   "name": "python",
   "nbconvert_exporter": "python",
   "pygments_lexer": "ipython3",
   "version": "3.9.15"
  },
  "toc": {
   "base_numbering": 1,
   "nav_menu": {},
   "number_sections": true,
   "sideBar": true,
   "skip_h1_title": false,
   "title_cell": "Table of Contents",
   "title_sidebar": "Contents",
   "toc_cell": false,
   "toc_position": {},
   "toc_section_display": true,
   "toc_window_display": false
  }
 },
 "nbformat": 4,
 "nbformat_minor": 5
}
